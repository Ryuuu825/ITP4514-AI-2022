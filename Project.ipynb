{
 "cells": [
  {
   "cell_type": "code",
   "execution_count": 1,
   "metadata": {},
   "outputs": [],
   "source": [
    "# MTR route map\n",
    "map = {\n",
    "\t'Lo Wu': ['Sheung Shui'],\n",
    "\t'Lok Ma Chau': ['Sheung Shui'],\n",
    "\t'Sheung Shui' : ['Lo Wu', 'Lok Ma Chau', 'Fenling'],\n",
    "\t'Fenling' : ['Sheung Shui', 'Tai Wo'],\n",
    "\t'Tai Wo' : ['Fenling', 'Tai Po Market'],\n",
    "\t'Tai Po Market' : ['Tai Wo', 'University'],\n",
    "\t'University' : ['Tai Po Market', 'Fo Tan', 'Racecourse'],\n",
    "\t'Fo Tan' : ['University', 'Sha Tin'],\n",
    "\t'Racecourse' : ['University', 'Sha Tin'],\n",
    "\t'Sha Tin' : ['Fo Tan', 'Racecourse', 'Tai Wai'],\n",
    "\t'Tai Wai' : ['Sha Tin', 'Kowloon Tong','Che Kung Temple','Hin Keng'],\n",
    "\t'Kowloon Tong' : ['Lok Fu', 'Shek Kip Mei', 'Tai Wai','Mong Kok East'],\n",
    "\t'Mong Kok East' : ['Kowloon Tong', 'Hung Hom'],\n",
    "\t'Hung Hom' : ['Mong Kok East', 'Exhibition Centre','East Tsim Sha Tsui','Ho Man Tin'],\n",
    "\t'Exhibition Centre' : ['Hung Hom', 'Admiralty'],\n",
    "\t'Admiralty' : ['Exhibition Centre', 'Central','Wan Chai','Hong Kong','Tsim Sha Tsui','Ocean Park'],\n",
    "\t'Central' : ['Admiralty', 'Sheung Wan','Quarry Bay','Tai Koo','Causeway Bay','North Point'],\n",
    "\t'Wan Chai' : [],\n",
    "\t'Hong Kong' : [],\n",
    "\t'Tsim Sha Tsui' : [],\n",
    "\t'Ocean Park' : [],\n",
    "\t'East Tsim Sha Tsui' : [],\n",
    "\t'Ho Man Tin' : [],\n",
    "\t'Shek Kip Mei' : [],\n",
    "\t'Lok Fu' : [],\n",
    "\t'Che Kung Temple' : [],\n",
    "\t'Hin Keng' : []\n",
    "}"
   ]
  },
  {
   "cell_type": "code",
   "execution_count": 4,
   "metadata": {},
   "outputs": [
    {
     "name": "stdout",
     "output_type": "stream",
     "text": [
      "['LokMaChau', 'SheungShui', 'Fenling', 'TaiWo', 'TaiPoMarket', 'University', 'Racecourse']\n"
     ]
    }
   ],
   "source": [
    "start=input(\"Enter the start station: \")\n",
    "end=input(\"Enter the end station: \")\n",
    "\n",
    "def bfs(start, end):\n",
    "\t\tqueue = []\n",
    "\t\tqueue.append([start])\n",
    "\t\twhile queue:\n",
    "\t\t\t\tpath = queue.pop(0)\n",
    "\t\t\t\tnode = path[-1]\n",
    "\t\t\t\tif node == end:\n",
    "\t\t\t\t\t\treturn path\n",
    "\t\t\t\tfor adjacent in map.get(node, []):\n",
    "\t\t\t\t\t\tnew_path = list(path)\n",
    "\t\t\t\t\t\tnew_path.append(adjacent)\n",
    "\t\t\t\t\t\tqueue.append(new_path)\n",
    "\n",
    "print(bfs(start, end))"
   ]
  },
  {
   "cell_type": "code",
   "execution_count": 59,
   "metadata": {},
   "outputs": [
    {
     "name": "stdout",
     "output_type": "stream",
     "text": [
      "75 6\n",
      "small 75\n",
      "74 10\n",
      "small 74\n",
      "73 16\n",
      "small 73\n",
      "72 20\n",
      "small 72\n",
      "71 27\n",
      "small 71\n",
      "69 32\n",
      "70 35\n",
      "small 69\n",
      "68 36\n",
      "small 70\n",
      "69 44\n",
      "small 68\n",
      "67 40\n",
      "small 67\n",
      "8 46\n",
      "small 69\n",
      "67\n",
      "{56: 999999, 47: 999999, 46: 999999, 45: 999999, 44: 999999, 54: 999999, 55: 999999, 76: 999999, 75: 999999, 74: 999999, 73: 999999, 72: 999999, 71: 999999, 69: 44, 68: 999999, 67: 999999, 8: 46, 65: 999999, 64: 999999, 94: 999999, 2: 999999, 78: 999999, 37: 999999, 36: 999999, 35: 999999, 34: 999999, 33: 999999, 32: 999999, 31: 999999, 30: 999999, 29: 999999, 28: 999999, 27: 999999, 1: 999999, 26: 999999, 81: 999999, 82: 999999, 83: 999999, 49: 999999, 48: 999999, 38: 999999, 15: 999999, 14: 999999, 13: 999999, 12: 999999, 11: 999999, 10: 999999, 9: 999999, 7: 999999, 16: 999999, 6: 999999, 5: 999999, 84: 999999, 85: 999999, 103: 999999, 102: 999999, 101: 999999, 100: 999999, 99: 999999, 98: 999999, 97: 999999, 96: 999999, 90: 999999, 91: 999999, 92: 999999, 93: 999999, 80: 999999, 111: 999999, 53: 999999, 20: 999999, 114: 999999, 115: 999999, 116: 999999, 117: 999999, 118: 999999, 119: 999999, 120: 999999, 43: 999999, 42: 999999, 21: 999999, 41: 999999, 40: 999999, 39: 999999, 52: 999999, 51: 999999, 50: 999999, 57: 999999, 25: 999999, 24: 999999, 23: 999999, 22: 999999, 19: 999999, 18: 999999, 17: 999999, 4: 999999, 3: 999999, 86: 999999, 70: 999999}\n",
      "Path with least time is:  Lo Wu -> Sheung Shui -> Fanling -> Tai Wo -> Tai Po Market -> University -> Fo Tan -> Sha Tin -> Tai Wai Estimated time is:  999999\n"
     ]
    }
   ],
   "source": [
    "import pandas as pd\n",
    "sdf = pd.read_csv('mtr_lines_and_stations.csv', index_col=2)\n",
    "stations = dict(zip(sdf['Station ID'].unique(),sdf['English Name'].unique()))\n",
    "stations[70] = 'Racecourse'\n",
    "map = [\n",
    "\t[76,75,6],\n",
    "\t[75,74,4],\n",
    "\t[74,73,6],\n",
    "\t[73,72,4],\n",
    "\t[72,71,7],\n",
    "\t[71,69,5],\n",
    "\t[69,68,4],\n",
    "\t[68,67,4],\n",
    "\t[67,8,6],\n",
    "\t[8,65,4],\n",
    "\t[65,64,5],\n",
    "\t[64,94,5],\n",
    "\t[94,2,3],\n",
    "\t[78,75,12],\n",
    "\t[71,70,8],\n",
    "\t[70,69,9]\n",
    "]\n",
    "\n",
    "front = [] \n",
    "next = [] \n",
    "for i in map:\n",
    "\tfront.append(stations[i[0]])\n",
    "\tnext.append(stations[i[1]])\n",
    "\n",
    "def UCS(graph, times, open, closed, cur_node):\n",
    "\tif cur_node in open:\n",
    "\t\topen.remove(cur_node)\n",
    "\n",
    "\tclosed.add(cur_node)\n",
    "\tfor i in graph:\n",
    "\t\tif (i[0] == cur_node and times[i[0]]+i[2] < times[i[1]]):\n",
    "\t\t\topen.add(i[1])\n",
    "\t\t\ttimes[i[1]] = times[i[0]] + i[2]\n",
    "\t\t\tprint(i[1], times[i[1]])\n",
    "\t\t\tpath[stations[i[1]]] = path[stations[i[0]]] + ' -> ' + stations[i[1]]\n",
    "\n",
    "\tsmall = min(times, key=times.get)\n",
    "\tprint(\"small\", small)\n",
    "\tif small not in closed:\n",
    "\t\ttimes[cur_node] = 999999\n",
    "\t\tUCS(graph, times, open, closed, small)\n",
    "\n",
    "times = dict()\n",
    "temp_time = dict()\n",
    "path = dict()\n",
    "for i in stations:\n",
    "\ttimes[i] = 999999\n",
    "\tpath[i] = ''\n",
    "\n",
    "open = set()\n",
    "closed = set()\n",
    "start_node = input(\"Enter the Start State: \")\n",
    "open.add(list(stations.keys())[list(stations.values()).index(start_node)])\n",
    "path[start_node] = start_node\n",
    "times[list(stations.keys())[list(stations.values()).index(start_node)]] = 0\n",
    "\n",
    "UCS(map, times, open, closed, list(stations.keys())[list(stations.values()).index(start_node)])\n",
    "\n",
    "goal_node = input(\"Enter the Goal State: \")\n",
    "print(list(stations.keys())[list(stations.values()).index(goal_node)])\n",
    "print(times)\n",
    "print(\"Path with least time is: \", path[goal_node], \"Estimated time is: \", min(times.values()))"
   ]
  }
 ],
 "metadata": {
  "kernelspec": {
   "display_name": "Python 3.9.12 ('base')",
   "language": "python",
   "name": "python3"
  },
  "language_info": {
   "codemirror_mode": {
    "name": "ipython",
    "version": 3
   },
   "file_extension": ".py",
   "mimetype": "text/x-python",
   "name": "python",
   "nbconvert_exporter": "python",
   "pygments_lexer": "ipython3",
   "version": "3.9.12"
  },
  "orig_nbformat": 4,
  "vscode": {
   "interpreter": {
    "hash": "a825f8e8905b8e64233e6384cfa1616d0baa442a3b458fa78e4916d5c671b0d4"
   }
  }
 },
 "nbformat": 4,
 "nbformat_minor": 2
}
